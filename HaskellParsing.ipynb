{
 "cells": [
  {
   "cell_type": "markdown",
   "metadata": {},
   "source": [
    "## Parsing in Haskell\n",
    "\n",
    "This is an experiment to teach myself how to parse things in Haskell. A lot of the tutorials start a little too deep in the pool for my comfort. I will revisit them later when I feel more comfortable. For now, this little gem is totally my speed: https://two-wrongs.com/parser-combinators-parsing-for-haskell-beginners"
   ]
  },
  {
   "cell_type": "code",
   "execution_count": 1,
   "metadata": {
    "collapsed": true
   },
   "outputs": [],
   "source": [
    "import Text.ParserCombinators.ReadP"
   ]
  },
  {
   "cell_type": "code",
   "execution_count": 14,
   "metadata": {
    "collapsed": false
   },
   "outputs": [
    {
     "data": {
      "text/plain": [
       "[('a',\"eig\")]"
      ]
     },
     "metadata": {},
     "output_type": "display_data"
    }
   ],
   "source": [
    "-- Construct primitives that perform a test\n",
    "isVowel :: Char -> Bool\n",
    "isVowel char =\n",
    "    any (char ==) \"aouei\"\n",
    "\n",
    "-- Create a readParser <type> that tests if the constraint is met\n",
    "vowel :: ReadP Char\n",
    "vowel =\n",
    "    satisfy isVowel\n",
    "    \n",
    "-- The readP_to_S takes a ReadP a and a string and returns a [('a', rest of the string)]\n",
    "print $ readP_to_S vowel \"aeig\""
   ]
  },
  {
   "cell_type": "code",
   "execution_count": 22,
   "metadata": {
    "collapsed": false
   },
   "outputs": [
    {
     "data": {
      "text/plain": [
       "[(\"B\",\"IRK 281500Z 09014KT CAVOK M03/M06 Q0980 R13/910195\"),(\"BI\",\"RK 281500Z 09014KT CAVOK M03/M06 Q0980 R13/910195\"),(\"BIR\",\"K 281500Z 09014KT CAVOK M03/M06 Q0980 R13/910195\"),(\"BIRK\",\" 281500Z 09014KT CAVOK M03/M06 Q0980 R13/910195\")]"
      ]
     },
     "metadata": {},
     "output_type": "display_data"
    }
   ],
   "source": [
    "-- many1 returns a list of all succesful parses\n",
    "capitals :: String\n",
    "capitals = ['A'..'Z']\n",
    "\n",
    "-- Following the example from above\n",
    "isCapital :: Char -> Bool\n",
    "isCapital char =\n",
    "    any (char ==) capitals\n",
    "\n",
    "-- Define an aiport parser\n",
    "airport :: ReadP String\n",
    "airport =\n",
    "    many1 $ satisfy isCapital\n",
    "\n",
    "-- That's pretty cool. We now have a list of all possible conforming parses\n",
    "readP_to_S airport \"BIRK 281500Z 09014KT CAVOK M03/M06 Q0980 R13/910195\""
   ]
  },
  {
   "cell_type": "code",
   "execution_count": 26,
   "metadata": {
    "collapsed": false
   },
   "outputs": [
    {
     "data": {
      "text/plain": [
       "[(\"BIRK\",\"281500Z 09014KT CAVOK M03/M06 Q0980 R13/910195\")]"
      ]
     },
     "metadata": {},
     "output_type": "display_data"
    }
   ],
   "source": [
    "-- Let's play around with monads!\n",
    "airport :: ReadP String\n",
    "airport = do\n",
    "    code <- many1 $ satisfy isCapital\n",
    "    satisfy (== ' ')\n",
    "    return code\n",
    "    \n",
    "\n",
    "-- So the monad takes the last function returned. If you comment out satisfy, you get the full list back. \n",
    "-- It would appear the parse monad behaves a bit like the list monad. Code is a list of all possible combinations\n",
    "-- which is then filtered by the satisfy the next character is a space constraint\n",
    "readP_to_S airport \"BIRK 281500Z 09014KT CAVOK M03/M06 Q0980 R13/910195\""
   ]
  },
  {
   "cell_type": "code",
   "execution_count": 34,
   "metadata": {
    "collapsed": false
   },
   "outputs": [
    {
     "data": {
      "text/plain": [
       "[('5',\"2\")]"
      ]
     },
     "metadata": {},
     "output_type": "display_data"
    }
   ],
   "source": [
    "-- So let's create some numbers as a definition / constant\n",
    "digits :: String\n",
    "digits = ['0'..'9']\n",
    "\n",
    "\n",
    "-- Let's create a function to test whether a character is a digit\n",
    "isDigit :: Char -> Bool\n",
    "isDigit char = \n",
    "    any (char ==) digits\n",
    "\n",
    "\n",
    "-- Now we can create a parser based on that test\n",
    "digit :: ReadP Char\n",
    "digit =\n",
    "    satisfy isDigit\n",
    "\n",
    "-- Works just like before. Now let's step this up a bit.\n",
    "readP_to_S digit \"52\""
   ]
  },
  {
   "cell_type": "code",
   "execution_count": 37,
   "metadata": {
    "collapsed": false
   },
   "outputs": [
    {
     "data": {
      "text/plain": [
       "[((19,12,1),\"\")]"
      ]
     },
     "metadata": {},
     "output_type": "display_data"
    }
   ],
   "source": [
    "-- In the context of a monad, we define a sequence as to how these parsers should be applied sequentially to \n",
    "-- pass our parser spec\n",
    "-- Note that count will allow you to run a parser n times\n",
    "-- Also note, string is a convenience function to match an exact string instad of a series of characters\n",
    "timestamp :: ReadP (Int, Int, Int)\n",
    "timestamp = do\n",
    "    day <- count 2 digit\n",
    "    hour <- count 2 digit\n",
    "    minute <- count 2 digit\n",
    "    string \"Z \"\n",
    "    return (read day, read hour, read minute)\n",
    "    \n",
    "    \n",
    "readP_to_S timestamp \"191201Z \""
   ]
  },
  {
   "cell_type": "code",
   "execution_count": 39,
   "metadata": {
    "collapsed": false
   },
   "outputs": [
    {
     "data": {
      "text/plain": [
       "[((30,23,59),\"\")]"
      ]
     },
     "metadata": {},
     "output_type": "display_data"
    }
   ],
   "source": [
    "-- Adding some error checking to our parser \n",
    "timestamp :: ReadP (Int, Int, Int)\n",
    "timestamp = do\n",
    "    day <- numbers 2\n",
    "    hour <- numbers 2\n",
    "    minute <- numbers 2\n",
    "    string \"Z \"\n",
    "    if day < 1 || day > 31 || hour > 23 || minute > 59 then\n",
    "        pfail\n",
    "    else\n",
    "        return (day, hour, minute)\n",
    "        \n",
    "numbers :: Int -> ReadP Int\n",
    "numbers digits =\n",
    "    fmap read (count digits digit)\n",
    "    \n",
    "-- This should fail\n",
    "-- readP_to_S timestamp \"888990Z \"\n",
    "\n",
    "-- This should succeed\n",
    "readP_to_S timestamp \"302359Z \""
   ]
  },
  {
   "cell_type": "code",
   "execution_count": 40,
   "metadata": {
    "collapsed": false
   },
   "outputs": [
    {
     "data": {
      "text/plain": [
       "[((90,7),\"\")]"
      ]
     },
     "metadata": {},
     "output_type": "display_data"
    }
   ],
   "source": [
    "import Control.Applicative\n",
    "\n",
    "-- Let's add applicatives and alternatives!!!\n",
    "-- Basically we are saying we want to optionally parse one or another\n",
    "-- Note, while we are in the parse monad context, we are also normalizing the speed.\n",
    "windInfo :: ReadP (Int, Int)\n",
    "windInfo = do\n",
    "    direction <- numbers 3\n",
    "    speed <- numbers 2 <|> numbers 3\n",
    "    unit <- string \"KT\" <|> string \"MPS\"\n",
    "    string \" \"\n",
    "    return (direction, toMPS unit speed)\n",
    "\n",
    "toMPS :: String -> Int -> Int\n",
    "toMPS unit speed =\n",
    "    case unit of\n",
    "         \"KT\" -> div speed 2\n",
    "         \"MPS\" -> speed\n",
    "         \n",
    "readP_to_S windInfo \"09014KT \""
   ]
  },
  {
   "cell_type": "code",
   "execution_count": 41,
   "metadata": {
    "collapsed": false
   },
   "outputs": [
    {
     "data": {
      "text/plain": [
       "[((90,7,0),\"\")]"
      ]
     },
     "metadata": {},
     "output_type": "display_data"
    }
   ],
   "source": [
    "-- Create a parser for optional gusts of wind in the reading\n",
    "gustParser :: ReadP Int\n",
    "gustParser = do\n",
    "    satisfy (== 'G')\n",
    "    numbers 2 <|> numbers 3\n",
    "\n",
    "\n",
    "-- Change the parser monad to incorporate the gust parser. Please note, this new gust parser takes a 0 and a parser\n",
    "-- If the parse fails, it returns the first value\n",
    "windInfo :: ReadP (Int, Int, Int)\n",
    "windInfo = do\n",
    "    direction <- numbers 3\n",
    "    speed <- numbers 2 <|> numbers 3\n",
    "    gusts <- option 0 gustParser \n",
    "    unit <- string \"KT\" <|> string \"MPS\"\n",
    "    string \" \"\n",
    "    return (direction, toMPS unit speed, toMPS unit gusts)\n",
    "    \n",
    "    \n",
    "readP_to_S windInfo \"09014KT \""
   ]
  },
  {
   "cell_type": "code",
   "execution_count": 42,
   "metadata": {
    "collapsed": false
   },
   "outputs": [
    {
     "data": {
      "text/plain": [
       "[(WindInfo {dir = 90, speed = 7, gusts = Nothing},\"\")]"
      ]
     },
     "metadata": {},
     "output_type": "display_data"
    }
   ],
   "source": [
    "-- We don't like the default of gusts as zero if they are absent. Let's make them a maybe instead and return a record\n",
    "-- instead of an ugly tuple\n",
    "data WindInfo = WindInfo\n",
    "    { dir :: Int\n",
    "    , speed :: Int\n",
    "    , gusts :: Maybe Int\n",
    "    }\n",
    "    deriving Show\n",
    "    \n",
    "\n",
    "windInfo :: ReadP WindInfo\n",
    "windInfo = do\n",
    "    direction <- numbers 3\n",
    "    speed <- numbers 2 <|> numbers 3\n",
    "    gusts <- option Nothing (fmap Just gustParser)\n",
    "    unit <- string \"KT\" <|> string \"MPS\"\n",
    "    string \" \"\n",
    "    return (WindInfo\n",
    "        direction\n",
    "        (toMPS unit speed)\n",
    "        (fmap (toMPS unit) gusts))\n",
    "        \n",
    "readP_to_S windInfo \"09014KT \""
   ]
  },
  {
   "cell_type": "code",
   "execution_count": 43,
   "metadata": {
    "collapsed": false
   },
   "outputs": [
    {
     "data": {
      "text/plain": [
       "[(Report {station = \"BIRK\", time = (28,15,0), wind = WindInfo {dir = 90, speed = 7, gusts = Just 8}},\"CAVOK M03/M06 Q0980 R13/910195\")]"
      ]
     },
     "metadata": {},
     "output_type": "display_data"
    }
   ],
   "source": [
    "-- BEHOLD!!!\n",
    "-- Let's get combinating!\n",
    "\n",
    "data Report = Report\n",
    "    { station :: String\n",
    "    , time :: (Int, Int, Int)\n",
    "    , wind :: WindInfo\n",
    "    }\n",
    "    deriving Show\n",
    "\n",
    "metar :: ReadP Report\n",
    "metar = do\n",
    "    code <- airport\n",
    "    time <- timestamp\n",
    "    wind <- windInfo\n",
    "    return (Report code time wind)\n",
    "    \n",
    "readP_to_S metar \"BIRK 281500Z 09014G17KT CAVOK M03/M06 Q0980 R13/910195\""
   ]
  },
  {
   "cell_type": "code",
   "execution_count": null,
   "metadata": {
    "collapsed": true
   },
   "outputs": [],
   "source": []
  }
 ],
 "metadata": {
  "kernelspec": {
   "display_name": "Haskell",
   "language": "haskell",
   "name": "haskell"
  },
  "language_info": {
   "codemirror_mode": "ihaskell",
   "file_extension": ".hs",
   "name": "haskell",
   "version": "7.10.2"
  }
 },
 "nbformat": 4,
 "nbformat_minor": 0
}
